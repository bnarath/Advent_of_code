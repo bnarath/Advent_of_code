{
 "cells": [
  {
   "cell_type": "code",
   "execution_count": 1,
   "metadata": {},
   "outputs": [],
   "source": [
    "from IPython.core.interactiveshell import InteractiveShell\n",
    "InteractiveShell.ast_node_interactivity = 'all'"
   ]
  },
  {
   "cell_type": "code",
   "execution_count": 94,
   "metadata": {},
   "outputs": [
    {
     "name": "stdout",
     "output_type": "stream",
     "text": [
      "145\n",
      "3424528800\n"
     ]
    }
   ],
   "source": [
    "import re\n",
    "import numpy as np\n",
    "import functools\n",
    "\n",
    "#File reading\n",
    "with open('input.txt') as f:\n",
    "    arr = f.readlines()\n",
    "    \n",
    "#Block\n",
    "block = [re.sub('\\n','',line) for line in arr]\n",
    "\n",
    "#Function to return the trees encountered\n",
    "def find_no_trees(down, right, block):\n",
    "    #[(j, (i*3)%len(block[0])) for i,j in enumerate(range(0, len(block), down))] This is the row and column\n",
    "    return np.sum([1 for i,j in enumerate(range(0, len(block), down)) if block[j][(i*right)%len(block[0])]=='#'])\n",
    "\n",
    "#policies given\n",
    "policies = [(1, 1), (3,1), (5,1), (7,1), (1,2)]\n",
    "\n",
    "###Solution 1#####\n",
    "print(find_no_trees(*policies[1][::-1],block))\n",
    "###145\n",
    "\n",
    "###Solution 2####\n",
    "#product of the number of trees encountered across all policies\n",
    "print(functools.reduce(lambda a, b : a*b, np.array(list(map(lambda x: find_no_trees(x[1], x[0], block), policies)), dtype='int64')))\n",
    "###3424528800"
   ]
  }
 ],
 "metadata": {
  "kernelspec": {
   "display_name": "Python 3",
   "language": "python",
   "name": "python3"
  },
  "language_info": {
   "codemirror_mode": {
    "name": "ipython",
    "version": 3
   },
   "file_extension": ".py",
   "mimetype": "text/x-python",
   "name": "python",
   "nbconvert_exporter": "python",
   "pygments_lexer": "ipython3",
   "version": "3.8.5"
  }
 },
 "nbformat": 4,
 "nbformat_minor": 4
}
