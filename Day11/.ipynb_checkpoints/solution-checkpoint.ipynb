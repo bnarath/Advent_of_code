{
 "cells": [
  {
   "cell_type": "code",
   "execution_count": 1,
   "metadata": {},
   "outputs": [],
   "source": [
    "from IPython.core.interactiveshell import InteractiveShell\n",
    "InteractiveShell.ast_node_interactivity = 'all'"
   ]
  },
  {
   "cell_type": "code",
   "execution_count": 2,
   "metadata": {},
   "outputs": [],
   "source": [
    "import numpy as np"
   ]
  },
  {
   "cell_type": "code",
   "execution_count": 12,
   "metadata": {},
   "outputs": [],
   "source": [
    "with open('input_sample.txt', 'r') as f:\n",
    "    grid = np.array([[col for col in row.strip()] for row in f.readlines()])"
   ]
  },
  {
   "cell_type": "code",
   "execution_count": 36,
   "metadata": {},
   "outputs": [
    {
     "name": "stdout",
     "output_type": "stream",
     "text": [
      "['#.##.##.##', '#######.##', '#.#.#..#..', '####.##.##', '#.##.##.##', '#.#####.##', '..#.#.....', '##########', '#.######.#', '#.#####.##']\n"
     ]
    },
    {
     "data": {
      "text/plain": [
       "71"
      ]
     },
     "execution_count": 36,
     "metadata": {},
     "output_type": "execute_result"
    }
   ],
   "source": [
    "def traverse(h, v, i, j, prev_grid):\n",
    "    ##################\n",
    "    #h=1 => right\n",
    "    #h=-1 => left\n",
    "    #v=-1 => up (human eyes)\n",
    "    #v=1 => down\n",
    "    # h,v tuple for all 8 directions\n",
    "    # left - (-1,0)\n",
    "    # right - (1, 0)\n",
    "    # up - (0, -1)\n",
    "    # down - (0, 1)\n",
    "    # diag left up - (-1, -1)\n",
    "    # diag left down - (-1, 1)\n",
    "    # diag right up - (1, -1)\n",
    "    # diag right down - (1, 1)\n",
    "    ##################\n",
    "    height, width = prev_grid.shape\n",
    "    \n",
    "    while True:\n",
    "        print(f\"i={i}, j={j}, h={h}, v={v}\")\n",
    "        if ((j+h)>=width and (h==1)) or ((j+h)<0 and (h==-1)) or ((i+v)>=height and (v==1)) or ((i+v)<0 and (v==-1)):\n",
    "            return 0\n",
    "        elif prev_grid[i+v,j+h]=='#':\n",
    "            return 1\n",
    "        elif prev_grid[i+v,j+h]=='L':\n",
    "            return 0\n",
    "        else:\n",
    "            i+=v\n",
    "            j+=h\n",
    "\n",
    "def fill(prev_grid, part=1):\n",
    "    directions = [(-1,0), (1,0), (0, -1), (0, 1), (-1, -1), (-1, 1), (1, -1), (1, 1)]\n",
    "    new_grid = prev_grid.copy()\n",
    "    height, width = new_grid.shape\n",
    "    for i in range(height):\n",
    "        for j in range(width):\n",
    "            if (part==1) and (prev_grid[i,j]=='L') and not (np.count_nonzero(prev_grid[max(i-1, 0): min(i+2, height), max(j-1, 0): min(j+2, width)]=='#')):\n",
    "                new_grid[i,j]='#'\n",
    "            if (part==2) and (prev_grid[i,j]=='L'):\n",
    "                occupied_visible_seats = 0\n",
    "                for direction in directions:\n",
    "                    occupied_visible_seats+=traverse(*direction, i, j, prev_grid)\n",
    "                if not occupied_visible_seats:\n",
    "                    new_grid[i,j]='#'       \n",
    "    return new_grid\n",
    "\n",
    "def empty(prev_grid, part=1):\n",
    "    directions = [(-1,0), (1,0), (0, -1), (0, 1), (-1, -1), (-1, 1), (1, -1), (1, 1)]\n",
    "    new_grid = prev_grid.copy()\n",
    "    height, width = new_grid.shape\n",
    "    for i in range(height):\n",
    "        for j in range(width):\n",
    "            if (part==1) and (prev_grid[i,j]=='#') and (np.count_nonzero(prev_grid[max(i-1, 0): min(i+2, height), max(j-1, 0): min(j+2, width)]=='#') >= 5):\n",
    "                new_grid[i,j]='L'\n",
    "            if (part==2) and (prev_grid[i,j]=='#'):\n",
    "                occupied_visible_seats = 0\n",
    "                for direction in directions:\n",
    "                    occupied_visible_seats+=traverse(*direction, i, j, prev_grid)\n",
    "                if occupied_visible_seats>=5:\n",
    "                    new_grid[i,j]='L'\n",
    "    return new_grid\n",
    "\n",
    "\n",
    "def calculate_final_occupied_seats(grid, part=1):\n",
    "    prev_grid = grid.copy()\n",
    "    rounds = 0\n",
    "    while True:\n",
    "        new_grid = fill(prev_grid, part=part)\n",
    "        print([''.join(row) for row in new_grid])\n",
    "        rounds+=1\n",
    "        if np.array_equal(prev_grid, new_grid):\n",
    "            return np.count_nonzero(new_grid=='#')\n",
    "        else:\n",
    "            prev_grid = new_grid.copy()\n",
    "            new_grid = empty(prev_grid, part=part)\n",
    "            print([''.join(row) for row in new_grid])\n",
    "            rounds+=1\n",
    "            if np.array_equal(prev_grid, new_grid):\n",
    "                return np.count_nonzero(new_grid=='#')\n",
    "            else:\n",
    "                prev_grid = new_grid.copy()\n",
    "    \n",
    "    \n",
    "#part1 - 2368\n",
    "# calculate_final_occupied_seats_part1(grid, part=1)\n",
    "\n",
    "    \n",
    "#part2 - \n",
    "calculate_final_occupied_seats(grid, part=2)"
   ]
  },
  {
   "cell_type": "code",
   "execution_count": 14,
   "metadata": {},
   "outputs": [],
   "source": [
    "a, b, c = calculate_final_occupied_seats(grid, part=2)"
   ]
  },
  {
   "cell_type": "code",
   "execution_count": 37,
   "metadata": {},
   "outputs": [
    {
     "name": "stdout",
     "output_type": "stream",
     "text": [
      "i=0, j=2, h=-1, v=0\n",
      "i=0, j=1, h=-1, v=0\n"
     ]
    },
    {
     "data": {
      "text/plain": [
       "0"
      ]
     },
     "execution_count": 37,
     "metadata": {},
     "output_type": "execute_result"
    }
   ],
   "source": [
    "board = '''#.##.##.##\n",
    "#######.##\n",
    "#.#.#..#..\n",
    "####.##.##\n",
    "#.##.##.##\n",
    "#.#####.##\n",
    "..#.#.....\n",
    "##########\n",
    "#.######.#\n",
    "#.#####.##'''\n",
    "\n",
    "\n",
    "grid = np.array([[col for col in line] for line in board.split('\\n')])\n",
    "traverse(directions[0][0], directions[0][1], 0, 2, grid)"
   ]
  },
  {
   "cell_type": "code",
   "execution_count": null,
   "metadata": {},
   "outputs": [],
   "source": [
    "#.L#.L#.L#\n",
    "#LLLLLL.LL\n",
    "L.L.L..#..\n",
    "##L#.#L.L#\n",
    "L.L#.LL.L#\n",
    "#.LLLL#.LL\n",
    "..#.L.....\n",
    "LLL###LLL#\n",
    "#.LLLLL#.L\n",
    "#.L#LL#.L#"
   ]
  },
  {
   "cell_type": "code",
   "execution_count": 16,
   "metadata": {},
   "outputs": [
    {
     "data": {
      "text/plain": [
       "['L.LL.LL.LL',\n",
       " 'LLLLLLL.LL',\n",
       " 'L.L.L..L..',\n",
       " 'LLLL.LL.LL',\n",
       " 'L.LL.LL.LL',\n",
       " 'L.LLLLL.LL',\n",
       " '..L.L.....',\n",
       " 'LLLLLLLLLL',\n",
       " 'L.LLLLLL.L',\n",
       " 'L.LLLLL.LL']"
      ]
     },
     "execution_count": 16,
     "metadata": {},
     "output_type": "execute_result"
    }
   ],
   "source": [
    "[''.join(row) for row in grid]"
   ]
  },
  {
   "cell_type": "code",
   "execution_count": 29,
   "metadata": {},
   "outputs": [],
   "source": [
    "directions = [(-1,0), (1,0), (0, -1), (0, 1), (-1, -1), (-1, 1), (1, -1), (1, 1)]"
   ]
  },
  {
   "cell_type": "code",
   "execution_count": null,
   "metadata": {},
   "outputs": [],
   "source": []
  }
 ],
 "metadata": {
  "kernelspec": {
   "display_name": "Python 3",
   "language": "python",
   "name": "python3"
  },
  "language_info": {
   "codemirror_mode": {
    "name": "ipython",
    "version": 3
   },
   "file_extension": ".py",
   "mimetype": "text/x-python",
   "name": "python",
   "nbconvert_exporter": "python",
   "pygments_lexer": "ipython3",
   "version": "3.8.5"
  }
 },
 "nbformat": 4,
 "nbformat_minor": 4
}
