{
 "cells": [
  {
   "cell_type": "code",
   "execution_count": 30,
   "metadata": {},
   "outputs": [
    {
     "name": "stdout",
     "output_type": "stream",
     "text": [
      "Total outer bags containing 'shiny gold' : 370\n",
      "Total inner bags  'shiny gold' must contain: 29547\n"
     ]
    }
   ],
   "source": [
    "import re\n",
    "\n",
    "with open('input.txt', 'r') as f:\n",
    "    p_bag_dict = {} #p for parent; child bag is the key - parent bags are values\n",
    "    c_bag_dict = {} #c for child; parent bag is the key - (child bags, counts) are vaues\n",
    "    for line in f.readlines():\n",
    "        items = line.strip().split(' bags contain ')\n",
    "        c_bags = re.findall(r'(\\d+)\\s([a-z]+\\s[a-z]+)\\s', items[1])\n",
    "        for count, c in c_bags:\n",
    "            old = p_bag_dict.get(c, set())\n",
    "            if bool(old):\n",
    "                old.update({items[0]})\n",
    "            else:\n",
    "                old.add(items[0])\n",
    "            p_bag_dict[c] = old\n",
    "            c_bag_dict[items[0]] = c_bag_dict.get(items[0], []) + [(c, count)]\n",
    "            \n",
    "def find_parent_bags(bag):\n",
    "    for p in p_bag_dict[bag]:\n",
    "        if p not in bags:\n",
    "            outer_bags.append(p)\n",
    "            if p in p_bag_dict:\n",
    "                find_parent_bags(p)  \n",
    "                \n",
    "def find_child_bags(bag):\n",
    "    total_inner_bags=0\n",
    "    if bag in c_bag_dict:\n",
    "        for c, count in c_bag_dict[bag]:\n",
    "            total_inner_bags+=int(count)*(find_child_bags(c)+1)\n",
    "    return total_inner_bags\n",
    "                \n",
    "outer_bags=[]\n",
    "find_parent_bags('shiny gold')\n",
    "\n",
    "####Solution 1\n",
    "print(\"Total outer bags containing 'shiny gold' : {}\".format(len(bags)))\n",
    "#####370\n",
    "\n",
    "####Solution 1\n",
    "print(\"Total inner bags  'shiny gold' must contain: {}\".format(find_child_bags('shiny gold')))\n",
    "#####29547\n",
    "        "
   ]
  }
 ],
 "metadata": {
  "kernelspec": {
   "display_name": "Python 3",
   "language": "python",
   "name": "python3"
  },
  "language_info": {
   "codemirror_mode": {
    "name": "ipython",
    "version": 3
   },
   "file_extension": ".py",
   "mimetype": "text/x-python",
   "name": "python",
   "nbconvert_exporter": "python",
   "pygments_lexer": "ipython3",
   "version": "3.8.5"
  }
 },
 "nbformat": 4,
 "nbformat_minor": 4
}
