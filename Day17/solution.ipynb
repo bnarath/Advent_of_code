{
 "cells": [
  {
   "cell_type": "code",
   "execution_count": 1,
   "metadata": {},
   "outputs": [],
   "source": [
    "from IPython.core.interactiveshell import InteractiveShell\n",
    "InteractiveShell.ast_node_interactivity = 'all'"
   ]
  },
  {
   "cell_type": "code",
   "execution_count": 130,
   "metadata": {},
   "outputs": [
    {
     "data": {
      "text/plain": [
       "213"
      ]
     },
     "execution_count": 130,
     "metadata": {},
     "output_type": "execute_result"
    },
    {
     "data": {
      "text/plain": [
       "1624"
      ]
     },
     "execution_count": 130,
     "metadata": {},
     "output_type": "execute_result"
    }
   ],
   "source": [
    "import numpy as np\n",
    "\n",
    "with open('input.txt', 'r') as f:\n",
    "    file = [list(line.strip()) for line in f.readlines()]\n",
    "\n",
    "def part1(file):\n",
    "    grid = np.array(file)\n",
    "    grid = grid.reshape(*grid.shape, 1)\n",
    "    rounds=6\n",
    "    for R in range(1,rounds+1):\n",
    "        new_grid = np.full(np.array(list(grid.shape))+2, '.')\n",
    "        x,y,z = new_grid.shape\n",
    "        x0, y0, z0 = -R,-R,-R\n",
    "        new_grid[1:-1, 1:-1, 1:-1] = grid\n",
    "        grid = new_grid.copy()\n",
    "        for i in range(x0,x0+x):\n",
    "            for j in range(y0,y0+y):\n",
    "                for k in range(z0,z0+z):\n",
    "                    cube = new_grid[i+R, j+R, k+R]\n",
    "                    neighbours = np.count_nonzero(grid[max(i-1+R,0):min(i+2+R, x),max(j-1+R,0):min(j+2+R, y),max(k-1+R,0):min(k+2+R, z)]=='#')\n",
    "                    if (cube == '#') and (((neighbours-1) != 2) and ((neighbours-1) != 3)):\n",
    "                        new_grid[i+R, j+R, k+R] = '.'\n",
    "                    if (cube == '.') and (neighbours == 3) :\n",
    "                        new_grid[i+R, j+R, k+R] = '#'\n",
    "        grid = new_grid\n",
    "    return np.count_nonzero(grid=='#')\n",
    "\n",
    "\n",
    "def part2(file):\n",
    "    grid = np.array(file)\n",
    "    grid = grid.reshape(*grid.shape, 1, 1)\n",
    "    rounds=6\n",
    "    for R in range(1,rounds+1):\n",
    "        new_grid = np.full(np.array(list(grid.shape))+2, '.')\n",
    "        x,y,z,w = new_grid.shape\n",
    "        x0, y0, z0, w0 = -R,-R,-R,-R\n",
    "        new_grid[1:-1, 1:-1, 1:-1, 1:-1] = grid\n",
    "        grid = new_grid.copy()\n",
    "        for i in range(x0,x0+x):\n",
    "            for j in range(y0,y0+y):\n",
    "                for k in range(z0,z0+z):\n",
    "                    for l in range(w0,w0+w):\n",
    "                        hypercube = new_grid[i+R, j+R, k+R, l+R]\n",
    "                        neighbours = np.count_nonzero(grid[max(i-1+R,0):min(i+2+R, x),max(j-1+R,0):min(j+2+R, y),max(k-1+R,0):min(k+2+R, z), max(l-1+R,0):min(l+2+R, w)]=='#')\n",
    "                        if (hypercube == '#') and (((neighbours-1) != 2) and ((neighbours-1) != 3)):\n",
    "                            new_grid[i+R, j+R, k+R, l+R] = '.'\n",
    "                        if (hypercube == '.') and (neighbours == 3) :\n",
    "                            new_grid[i+R, j+R, k+R, l+R] = '#'\n",
    "        grid = new_grid\n",
    "    return np.count_nonzero(grid=='#')\n",
    "\n",
    "part1(file)\n",
    "part2(file)"
   ]
  }
 ],
 "metadata": {
  "kernelspec": {
   "display_name": "Python 3",
   "language": "python",
   "name": "python3"
  },
  "language_info": {
   "codemirror_mode": {
    "name": "ipython",
    "version": 3
   },
   "file_extension": ".py",
   "mimetype": "text/x-python",
   "name": "python",
   "nbconvert_exporter": "python",
   "pygments_lexer": "ipython3",
   "version": "3.8.5"
  }
 },
 "nbformat": 4,
 "nbformat_minor": 4
}
