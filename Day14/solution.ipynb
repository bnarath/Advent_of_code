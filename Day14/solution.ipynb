{
 "cells": [
  {
   "cell_type": "code",
   "execution_count": 124,
   "metadata": {},
   "outputs": [],
   "source": [
    "from IPython.core.interactiveshell import InteractiveShell\n",
    "InteractiveShell.ast_node_interactivity = 'all'"
   ]
  },
  {
   "cell_type": "code",
   "execution_count": 125,
   "metadata": {},
   "outputs": [
    {
     "data": {
      "text/plain": [
       "15018100062885"
      ]
     },
     "execution_count": 125,
     "metadata": {},
     "output_type": "execute_result"
    },
    {
     "data": {
      "text/plain": [
       "5724245857696"
      ]
     },
     "execution_count": 125,
     "metadata": {},
     "output_type": "execute_result"
    }
   ],
   "source": [
    "import re\n",
    "\n",
    "with open('input.txt', 'r') as f:\n",
    "    Log = []\n",
    "    for line in f.readlines():\n",
    "        instruction = re.findall(r'^(mem)\\[(\\d+)\\] = (\\d+)$',line.strip())\n",
    "        if instruction:\n",
    "            Log.append(instruction[0])\n",
    "        else:\n",
    "            mask = re.findall(r'(mask) = ((X|\\d)+)',line.strip())\n",
    "            Log.append(mask[0][:2])\n",
    "        \n",
    "def part_1_2_combined(Log, part):\n",
    "    Curr_Mask = None\n",
    "    mem = {}\n",
    "    count=0\n",
    "    for inst in Log:\n",
    "        if inst[0]=='mask':\n",
    "            Curr_Mask = inst[1]\n",
    "        else:\n",
    "            if part==2:\n",
    "                address, val = int(inst[1]), int(inst[2])\n",
    "                if Curr_Mask:\n",
    "                    bin_add = bin(address)[2:].zfill(len(Curr_Mask))\n",
    "                    bin_add=[(bin_add[index] if bit=='0' else ('1' if bit=='1' else 'X')) for index, bit in enumerate(Curr_Mask)]\n",
    "                    xpos = [index for index in range(len(bin_add)) if bin_add[index]=='X']\n",
    "                    for i in range(2**len(xpos)):\n",
    "                        new_address = bin_add.copy()\n",
    "                        for index,bit in enumerate(bin(i)[2:].zfill(len(xpos))):\n",
    "                            new_address[xpos[index]]=bit\n",
    "\n",
    "                        new_address_int = int(''.join(new_address), 2)\n",
    "                        if new_address_int in mem:\n",
    "                            count-=mem[new_address_int]\n",
    "                        mem[new_address_int]=val\n",
    "                        count+=val\n",
    "            else:\n",
    "                val = int(inst[2])\n",
    "                if Curr_Mask:\n",
    "                    bin_val = bin(val)[2:].zfill(len(Curr_Mask))\n",
    "                    bin_val=''.join([(bin_val[index] if bit=='X' else bit) for index, bit in enumerate(Curr_Mask)])\n",
    "                    val = int(bin_val, 2)\n",
    "                if inst[1] in mem:\n",
    "                    count-=int(mem[inst[1]])\n",
    "                mem[inst[1]]=val\n",
    "                count+=val        \n",
    "    return count\n",
    "\n",
    "part_1_2_combined(Log, 1)\n",
    "part_1_2_combined(Log, 2)"
   ]
  }
 ],
 "metadata": {
  "kernelspec": {
   "display_name": "Python 3",
   "language": "python",
   "name": "python3"
  },
  "language_info": {
   "codemirror_mode": {
    "name": "ipython",
    "version": 3
   },
   "file_extension": ".py",
   "mimetype": "text/x-python",
   "name": "python",
   "nbconvert_exporter": "python",
   "pygments_lexer": "ipython3",
   "version": "3.8.5"
  }
 },
 "nbformat": 4,
 "nbformat_minor": 4
}
