{
 "cells": [
  {
   "cell_type": "code",
   "execution_count": 2,
   "metadata": {},
   "outputs": [],
   "source": [
    "from IPython.core.interactiveshell import InteractiveShell\n",
    "InteractiveShell.ast_node_interactivity = 'all'"
   ]
  },
  {
   "cell_type": "code",
   "execution_count": 4,
   "metadata": {},
   "outputs": [
    {
     "name": "stdout",
     "output_type": "stream",
     "text": [
      "3882\n",
      "867295486378319\n"
     ]
    }
   ],
   "source": [
    "import re\n",
    "import numpy as np\n",
    "from functools import reduce\n",
    "import math\n",
    "\n",
    "with open('input.txt', 'r') as f:\n",
    "    timings = [line.strip() for line in f.readlines()]\n",
    "    \n",
    "def part1(timings):\n",
    "    arrival = int(timings[0])\n",
    "    bus_ids = [int(id) for id in timings[1].split(',') if id!='x']\n",
    "    wait_time = [(((arrival//id)+1)*id) - arrival for id in bus_ids]\n",
    "    return bus_ids[wait_time.index(min(wait_time))]*min(wait_time)\n",
    "\n",
    "def calculate_inverse_mod(num, div):\n",
    "    #######################\n",
    "    #inverse mode of x mod (k) is the least pos number (n) that gets multiplied with x to produce a remainder of 1 (mod k) after multiplication\n",
    "    # take x mod k = modx\n",
    "    # n*modx mod k should be 1 (Go for all multipliers of k , Take +1 and the /by modx)\n",
    "    # x*num in congruence with 1 mod div => x*modx in congruence with 1 mod div\n",
    "    modx = num%div\n",
    "    index = 1\n",
    "    while (div*index + 1)%modx:\n",
    "        index+=1\n",
    "    return (div*index + 1)//modx\n",
    "\n",
    "def check_if_prime(num):\n",
    "    if num<=0:\n",
    "        return False\n",
    "    elif num in [1,2,3]:\n",
    "        return True\n",
    "    else:\n",
    "        cur = 2\n",
    "        end = math.ceil(num**(1/2))\n",
    "        while cur<=end:\n",
    "            if num%cur == 0:\n",
    "                return False\n",
    "            cur+=1\n",
    "        return True\n",
    "            \n",
    "#np.count_nonzero([check_if_prime(num) for num in bus_id_time_constraint])==len(bus_id_time_constraint)  \n",
    "#All bus intervals are prime => can use CRT\n",
    "\n",
    "def part2(timings):\n",
    "    ##Since all arrival epochs are prime, we can use CRT to solve system of congrunces. Take t-1 as the xt (need to find)\n",
    "    bus_id_time_constraint = {int(val):index for index,val in enumerate(timings[1].split(',')) if val!='x'}\n",
    "    solve = {key: key-(bus_id_time_constraint[key]+1)%key for key in bus_id_time_constraint}\n",
    "    M = reduce(lambda x,y : x*y, list(solve.keys()))\n",
    "    Mis = [M//key for key in solve]\n",
    "    InverseMis = [calculate_inverse_mod(Mis[index], key) for index,key in enumerate(solve.keys())]\n",
    "    return sum([Mis[index]*InverseMis[index]*val for index,val in enumerate(solve.values())])%M +1\n",
    "\n",
    "print(part1(timings))\n",
    "print(part2(timings))"
   ]
  }
 ],
 "metadata": {
  "kernelspec": {
   "display_name": "Python 3",
   "language": "python",
   "name": "python3"
  },
  "language_info": {
   "codemirror_mode": {
    "name": "ipython",
    "version": 3
   },
   "file_extension": ".py",
   "mimetype": "text/x-python",
   "name": "python",
   "nbconvert_exporter": "python",
   "pygments_lexer": "ipython3",
   "version": "3.8.5"
  }
 },
 "nbformat": 4,
 "nbformat_minor": 4
}
