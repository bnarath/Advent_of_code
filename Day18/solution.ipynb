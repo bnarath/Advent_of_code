{
 "cells": [
  {
   "cell_type": "code",
   "execution_count": 206,
   "metadata": {},
   "outputs": [],
   "source": [
    "from IPython.core.interactiveshell import InteractiveShell\n",
    "InteractiveShell.ast_node_interactivity = 'all'"
   ]
  },
  {
   "cell_type": "code",
   "execution_count": 208,
   "metadata": {},
   "outputs": [
    {
     "name": "stdout",
     "output_type": "stream",
     "text": [
      "16332191652452\n",
      "351175492232654\n"
     ]
    }
   ],
   "source": [
    "import re\n",
    "\n",
    "with open('input.txt', 'r') as f:\n",
    "    ops = ['(', ')', '+', '*']\n",
    "    calculations = [[(item if item in ops else int(item)) for item in re.findall(r'[\\d+\\+\\-\\*\\(\\)]', line.strip())] for line in f.readlines()]\n",
    "    \n",
    "\n",
    "def calc(step, index=0):\n",
    "    prev_op=None\n",
    "    result=None\n",
    "    while index < len(step):\n",
    "        item = step[index]\n",
    "        if item not in ops:\n",
    "            result = (result+item if prev_op=='+' else  (result*item if prev_op=='*' else item))\n",
    "            index+=1\n",
    "        elif item == '(':\n",
    "            r, index = calc(step, index+1)\n",
    "            result = (result+r if prev_op=='+' else (result*r if prev_op=='*' else r))\n",
    "        elif item == ')':\n",
    "            index+=1\n",
    "            return result, index\n",
    "        else:\n",
    "            prev_op=item\n",
    "            index+=1      \n",
    "    return result, index\n",
    "  \n",
    "def advanced_calc(step, index=0):\n",
    "    prev_op=None\n",
    "    result=None\n",
    "    while index < len(step):\n",
    "        item = step[index]\n",
    "        if item == '*':\n",
    "            r, index = advanced_calc(step, index+1)\n",
    "            result*=r\n",
    "            return result, index\n",
    "        if item not in ops:\n",
    "            result = (result+item if prev_op=='+' else  (result*item if prev_op=='*' else item))\n",
    "            index+=1\n",
    "        elif item == '(':\n",
    "            r, index = advanced_calc(step, index+1)\n",
    "            result = (result+r if prev_op=='+' else (result*r if prev_op=='*' else r))\n",
    "        elif item == ')':\n",
    "            index+=1\n",
    "            return result, index\n",
    "        else:\n",
    "            prev_op=item\n",
    "            index+=1      \n",
    "    return result, index\n",
    "            \n",
    "            \n",
    "def part1_and_2(calculations, part):\n",
    "    Sum=0\n",
    "    for index,line in enumerate(calculations):\n",
    "        if part==1:\n",
    "            Sum+=calc(line)[0]\n",
    "        else:\n",
    "            Sum+=advanced_calc(line)[0]\n",
    "    return Sum   \n",
    "\n",
    "print(part1_and_2(calculations, 1))\n",
    "print(part1_and_2(calculations, 2))"
   ]
  }
 ],
 "metadata": {
  "kernelspec": {
   "display_name": "Python 3",
   "language": "python",
   "name": "python3"
  },
  "language_info": {
   "codemirror_mode": {
    "name": "ipython",
    "version": 3
   },
   "file_extension": ".py",
   "mimetype": "text/x-python",
   "name": "python",
   "nbconvert_exporter": "python",
   "pygments_lexer": "ipython3",
   "version": "3.8.5"
  }
 },
 "nbformat": 4,
 "nbformat_minor": 4
}
