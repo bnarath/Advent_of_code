{
 "cells": [
  {
   "cell_type": "code",
   "execution_count": 1,
   "metadata": {},
   "outputs": [
    {
     "name": "stdout",
     "output_type": "stream",
     "text": [
      "Highest seat number is 878\n",
      "Your seat is 504\n"
     ]
    }
   ],
   "source": [
    "import re\n",
    "\n",
    "with open('input.txt', 'r') as f:\n",
    "    seats = [seat.strip() for seat in f.readlines()]\n",
    "    \n",
    "def toNoCode(seat):\n",
    "    mapping = {'B':1, 'F':0, 'L':0, 'R':1}\n",
    "    return sum([mapping[val]*(2**index) for index, val in enumerate(seat)])\n",
    "\n",
    "seatNos = [8*toNoCode(seat[:7][::-1])+toNoCode(seat[7:][::-1]) for seat in seats]\n",
    "Max = max(seatNos)\n",
    "Min = min(seatNos)\n",
    "#Solution1\n",
    "print(f\"Highest seat number is {max(seatNos)}\")\n",
    "\n",
    "all_seats = list(range(Min,Max+1))\n",
    "for seat in seatNos:\n",
    "    all_seats.remove(seat)\n",
    "#Solution2\n",
    "print(f\"Your seat is {all_seats[0]}\")"
   ]
  },
  {
   "cell_type": "code",
   "execution_count": null,
   "metadata": {},
   "outputs": [],
   "source": []
  }
 ],
 "metadata": {
  "kernelspec": {
   "display_name": "Python 3",
   "language": "python",
   "name": "python3"
  },
  "language_info": {
   "codemirror_mode": {
    "name": "ipython",
    "version": 3
   },
   "file_extension": ".py",
   "mimetype": "text/x-python",
   "name": "python",
   "nbconvert_exporter": "python",
   "pygments_lexer": "ipython3",
   "version": "3.8.5"
  }
 },
 "nbformat": 4,
 "nbformat_minor": 4
}
