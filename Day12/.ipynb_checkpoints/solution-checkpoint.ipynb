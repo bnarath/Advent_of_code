{
 "cells": [
  {
   "cell_type": "code",
   "execution_count": 16,
   "metadata": {},
   "outputs": [],
   "source": [
    "from IPython.core.interactiveshell import InteractiveShell\n",
    "InteractiveShell.ast_node_interactivity = 'all'"
   ]
  },
  {
   "cell_type": "code",
   "execution_count": 39,
   "metadata": {},
   "outputs": [
    {
     "data": {
      "text/plain": [
       "2847"
      ]
     },
     "execution_count": 39,
     "metadata": {},
     "output_type": "execute_result"
    },
    {
     "data": {
      "text/plain": [
       "29839"
      ]
     },
     "execution_count": 39,
     "metadata": {},
     "output_type": "execute_result"
    }
   ],
   "source": [
    "import re\n",
    "\n",
    "with open('input.txt', 'r') as f:\n",
    "    nav = [inst.strip() for inst in f.readlines()]\n",
    "    \n",
    "def calc_Manhattan_part1(nav):\n",
    "    # east - pos x\n",
    "    # west - neg x\n",
    "    # north - pos y\n",
    "    # south - neg y\n",
    "    # rotation - L - anti clockwise, R - clockwise\n",
    "    # rotation_clock = ['E', 'S', 'W', 'N'] - 90 degree is move forward cyclical\n",
    "    # Ships position - ['FACE', x, y]\n",
    "    rotation_clock = ['E', 'S', 'W', 'N']\n",
    "    FACE,x,y='E',0,0\n",
    "    for instruction in nav:\n",
    "        inst_decoded = re.findall(r'^(E|S|W|N|F|R|L)(\\d+)$', instruction)[0]\n",
    "        x += (int(inst_decoded[1]) if inst_decoded[0]=='E' else (-1*int(inst_decoded[1]) if inst_decoded[0]=='W' else 0))\n",
    "        y += (int(inst_decoded[1]) if inst_decoded[0]=='N' else (-1*int(inst_decoded[1]) if inst_decoded[0]=='S' else 0))\n",
    "        if inst_decoded[0]=='F':\n",
    "            x+= (int(inst_decoded[1]) if FACE=='E' else (-1*int(inst_decoded[1]) if FACE=='W' else 0))\n",
    "            y+= (int(inst_decoded[1]) if FACE=='N' else (-1*int(inst_decoded[1]) if FACE=='S' else 0))\n",
    "        if (inst_decoded[0]=='R') or (inst_decoded[0]=='L'):\n",
    "            rot_count = int(inst_decoded[1])//90\n",
    "            FACE=(rotation_clock[(rotation_clock.index(FACE)+rot_count)%len(rotation_clock)] if inst_decoded[0]=='R' else rotation_clock[(rotation_clock.index(FACE)-rot_count)%len(rotation_clock)])\n",
    "    return abs(x)+abs(y)\n",
    "\n",
    "def rotate_90(waypoint, direction='R'):\n",
    "    x, y = waypoint\n",
    "    if x>=0 and y>=0:\n",
    "        new_waypoint = ([abs(y), -abs(x)] if direction=='R' else [-abs(y), abs(x)])\n",
    "    elif x>=0 and y<=0:\n",
    "        new_waypoint = ([-abs(y), -abs(x)] if direction=='R' else [abs(y), abs(x)])\n",
    "    elif x<=0 and y<=0:\n",
    "        new_waypoint = ([-abs(y), abs(x)] if direction=='R' else [abs(y), -abs(x)])\n",
    "    else:\n",
    "        new_waypoint = ([abs(y), abs(x)] if direction=='R' else [-abs(y), -abs(x)])\n",
    "    return new_waypoint\n",
    "\n",
    "\n",
    "def calc_Manhattan_part2(nav):\n",
    "    ship = [0,0]\n",
    "    waypoint = [10,1]\n",
    "    for instruction in nav:\n",
    "        inst_decoded = re.findall(r'^(E|S|W|N|F|R|L)(\\d+)$', instruction)[0]\n",
    "        waypoint[0] += (int(inst_decoded[1]) if inst_decoded[0]=='E' else (-1*int(inst_decoded[1]) if inst_decoded[0]=='W' else 0))\n",
    "        waypoint[1] += (int(inst_decoded[1]) if inst_decoded[0]=='N' else (-1*int(inst_decoded[1]) if inst_decoded[0]=='S' else 0))\n",
    "        if inst_decoded[0]=='F':\n",
    "            ship = [ship[index]+(int(inst_decoded[1])*ax) for index, ax in enumerate(waypoint)]\n",
    "        if (inst_decoded[0]=='R') or (inst_decoded[0]=='L'):\n",
    "            rot_count = int(inst_decoded[1])//90\n",
    "            for i in range(rot_count):\n",
    "                waypoint=rotate_90(waypoint, inst_decoded[0])\n",
    "    return abs(ship[0])+abs(ship[1])\n",
    "\n",
    "####part1 - 2847\n",
    "calc_Manhattan_part1(nav)\n",
    "\n",
    "####part2 - 29839\n",
    "calc_Manhattan_part2(nav)"
   ]
  },
  {
   "cell_type": "code",
   "execution_count": null,
   "metadata": {},
   "outputs": [],
   "source": []
  }
 ],
 "metadata": {
  "kernelspec": {
   "display_name": "Python 3",
   "language": "python",
   "name": "python3"
  },
  "language_info": {
   "codemirror_mode": {
    "name": "ipython",
    "version": 3
   },
   "file_extension": ".py",
   "mimetype": "text/x-python",
   "name": "python",
   "nbconvert_exporter": "python",
   "pygments_lexer": "ipython3",
   "version": "3.8.5"
  }
 },
 "nbformat": 4,
 "nbformat_minor": 4
}
