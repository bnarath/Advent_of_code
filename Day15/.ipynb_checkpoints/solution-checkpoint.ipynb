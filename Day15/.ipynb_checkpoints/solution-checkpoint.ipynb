{
 "cells": [
  {
   "cell_type": "code",
   "execution_count": 2,
   "metadata": {},
   "outputs": [],
   "source": [
    "from IPython.core.interactiveshell import InteractiveShell\n",
    "InteractiveShell.ast_node_interactivity = 'all'"
   ]
  },
  {
   "cell_type": "code",
   "execution_count": 1,
   "metadata": {},
   "outputs": [],
   "source": [
    "Input = [5,2,8,16,18,0,1]"
   ]
  },
  {
   "cell_type": "code",
   "execution_count": 5,
   "metadata": {},
   "outputs": [],
   "source": [
    "\n",
    "def find_the_num_spoken(turn=2020, Input):\n",
    "    num_spoken_time_stamps = {} #Spoken num : [count, [2nd last, last]]\n",
    "    game = Input.copy()\n",
    "    for i in range(turn):\n",
    "        if i < len(game):\n",
    "            count, last_turn = 0, [-1, i]\n",
    "            if game[i] in num_spoken_time_stamps:\n",
    "                count, last_turn = num_spoken_time_stamps[game[i]]\n",
    "                last_turn=last_turn[::-1]\n",
    "                last_turn[-1]=i\n",
    "            num_spoken_time_stamps[game[i]] = [count+1, last_turn]\n",
    "        else:\n",
    "            last = game[-1]\n",
    "            if num_spoken_time_stamps[last][0]>1:\n",
    "                count, last_turn = num_spoken_time_stamps[last]\n",
    "                number = last_turn[1]-last_turn[0]\n",
    "            else:\n",
    "                number = 0\n",
    "                game.append(number)\n",
    "                if number in num_spoken_time_stamps:\n",
    "                    count, last_turn = num_spoken_time_stamps[number]\n",
    "                    \n",
    "                    num_spoken_time_stamps[number] = [count+1, last_turn]\n",
    "                \n",
    "                \n",
    "                \n",
    "        print(i)\n",
    "        "
   ]
  },
  {
   "cell_type": "code",
   "execution_count": 6,
   "metadata": {},
   "outputs": [
    {
     "name": "stdout",
     "output_type": "stream",
     "text": [
      "7\n",
      "8\n",
      "9\n",
      "10\n",
      "11\n",
      "12\n",
      "13\n",
      "14\n",
      "15\n",
      "16\n",
      "17\n",
      "18\n",
      "19\n"
     ]
    }
   ],
   "source": [
    "find_the_num_spoken(20)"
   ]
  },
  {
   "cell_type": "code",
   "execution_count": 7,
   "metadata": {},
   "outputs": [],
   "source": [
    "a=[1,2,3]"
   ]
  },
  {
   "cell_type": "code",
   "execution_count": 8,
   "metadata": {},
   "outputs": [
    {
     "data": {
      "text/plain": [
       "[3, 2, 1]"
      ]
     },
     "execution_count": 8,
     "metadata": {},
     "output_type": "execute_result"
    }
   ],
   "source": [
    "a[::-1]"
   ]
  },
  {
   "cell_type": "code",
   "execution_count": null,
   "metadata": {},
   "outputs": [],
   "source": []
  }
 ],
 "metadata": {
  "kernelspec": {
   "display_name": "Python 3",
   "language": "python",
   "name": "python3"
  },
  "language_info": {
   "codemirror_mode": {
    "name": "ipython",
    "version": 3
   },
   "file_extension": ".py",
   "mimetype": "text/x-python",
   "name": "python",
   "nbconvert_exporter": "python",
   "pygments_lexer": "ipython3",
   "version": "3.8.5"
  }
 },
 "nbformat": 4,
 "nbformat_minor": 4
}
