{
 "cells": [
  {
   "cell_type": "code",
   "execution_count": 5,
   "metadata": {},
   "outputs": [],
   "source": [
    "from IPython.core.interactiveshell import InteractiveShell\n",
    "InteractiveShell.ast_node_interactivity = 'all'\n",
    "from tqdm import tqdm"
   ]
  },
  {
   "cell_type": "code",
   "execution_count": 6,
   "metadata": {},
   "outputs": [],
   "source": [
    "Input = [5,2,8,16,18,0,1]\n",
    "# Input = [0,3,6]"
   ]
  },
  {
   "cell_type": "code",
   "execution_count": 7,
   "metadata": {},
   "outputs": [],
   "source": [
    "Input = [5,2,8,16,18,0,1]\n",
    "from tqdm import tqdm\n",
    "def find_the_num_spoken(Input,turn=30000000):\n",
    "    num_spoken_time_stamps = {} #Spoken num : [count, [2nd last, last]]\n",
    "    for i in tqdm(range(turn)):\n",
    "        count, last_turn = 0, [-1, i]\n",
    "        if i < len(Input):\n",
    "            if Input[i] in num_spoken_time_stamps:\n",
    "                count, last_turn = num_spoken_time_stamps[Input[i]]\n",
    "                last_turn=last_turn[::-1]\n",
    "                last_turn[-1]=i\n",
    "            num_spoken_time_stamps[Input[i]] = [count+1, last_turn]\n",
    "            last = Input[i]\n",
    "        else:\n",
    "            if num_spoken_time_stamps[last][0]>1:\n",
    "                count, last_turn = num_spoken_time_stamps[last]\n",
    "                number = last_turn[1]-last_turn[0]\n",
    "            else:\n",
    "                number = 0\n",
    "            count, last_turn = 0, [-1, i]\n",
    "            if number in num_spoken_time_stamps:\n",
    "                count, last_turn = num_spoken_time_stamps[number]\n",
    "                last_turn=last_turn[::-1]\n",
    "                last_turn[-1]=i\n",
    "            last = number\n",
    "            num_spoken_time_stamps[number] = [count+1, last_turn]\n",
    "    return last"
   ]
  },
  {
   "cell_type": "code",
   "execution_count": 8,
   "metadata": {},
   "outputs": [
    {
     "name": "stderr",
     "output_type": "stream",
     "text": [
      "100%|██████████| 30000000/30000000 [01:47<00:00, 280325.06it/s]\n"
     ]
    },
    {
     "data": {
      "text/plain": [
       "1047739"
      ]
     },
     "execution_count": 8,
     "metadata": {},
     "output_type": "execute_result"
    }
   ],
   "source": [
    "find_the_num_spoken(Input,turn=30000000)"
   ]
  }
 ],
 "metadata": {
  "kernelspec": {
   "display_name": "Python 3",
   "language": "python",
   "name": "python3"
  },
  "language_info": {
   "codemirror_mode": {
    "name": "ipython",
    "version": 3
   },
   "file_extension": ".py",
   "mimetype": "text/x-python",
   "name": "python",
   "nbconvert_exporter": "python",
   "pygments_lexer": "ipython3",
   "version": "3.8.5"
  }
 },
 "nbformat": 4,
 "nbformat_minor": 4
}
