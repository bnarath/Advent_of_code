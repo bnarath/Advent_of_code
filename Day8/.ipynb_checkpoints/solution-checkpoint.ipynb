{
 "cells": [
  {
   "cell_type": "code",
   "execution_count": 1,
   "metadata": {},
   "outputs": [],
   "source": [
    "from IPython.core.interactiveshell import InteractiveShell\n",
    "InteractiveShell.ast_node_interactivity = 'all'"
   ]
  },
  {
   "cell_type": "code",
   "execution_count": 2,
   "metadata": {},
   "outputs": [],
   "source": [
    "import re"
   ]
  },
  {
   "cell_type": "code",
   "execution_count": 3,
   "metadata": {},
   "outputs": [],
   "source": [
    "with open('input.txt', 'r') as f:\n",
    "    instructions = [list(re.findall('^(acc|jmp|nop)\\s(\\+|\\-)(\\d+)$',line.strip())[0]) for line in f.readlines()]"
   ]
  },
  {
   "cell_type": "code",
   "execution_count": null,
   "metadata": {},
   "outputs": [],
   "source": [
    "class track:\n",
    "    def __init__(self):\n",
    "        self.instructions = instructions.copy()\n",
    "        self.index_dict = {index:0 for index in range(len(self.instructions))}\n",
    "        self.curr_pos = -1\n",
    "        self.acc_score = 0\n",
    "        self.first_loop = True #part 1\n",
    "        self.acc_score_before_first_loop = 0 #part 1\n",
    "        self.success = False #success => last instruction is not jmp and it has been reached\n",
    "        self.already_toggled_indices = []\n",
    "        self.confirmed_order = []\n",
    "        self.jumps_or_nops_encountered = []\n",
    "        self.acc_score_before_anomaly = 0 #part2\n",
    "        self.toggle_count=0\n",
    "    def check_success(self):\n",
    "        #return ((self.curr_pos==len(self.instructions)-1) and (self.instructions[self.curr_pos][0]!='jmp'))\n",
    "        return (self.curr_pos==len(self.instructions)-1) \n",
    "    def toggle_instruction(self, instruction):\n",
    "        toggle = {'jmp':'nop', 'nop':'jmp'}\n",
    "        toggled_instruction = ([toggle[instruction[0]]]+instruction[1:] if instruction[0] != 'acc' else instruction)\n",
    "        return toggled_instruction\n",
    "    def change_curr_pos(self):\n",
    "        increment = (1 if self.instructions[self.curr_pos][0]!='jmp' else (int(self.instructions[self.curr_pos][2]) if self.instructions[self.curr_pos][1]=='+' else -1*int(self.instructions[self.curr_pos][2])))\n",
    "        #self.curr_pos = (self.curr_pos+increment)%len(self.instructions)\n",
    "        self.curr_pos = (self.curr_pos+increment)\n",
    "    def change_acc_score(self):\n",
    "        self.acc_score+=((int(self.instructions[self.curr_pos][2]) if self.instructions[self.curr_pos][1]=='+' else -1*int(self.instructions[self.curr_pos][2])) if self.instructions[self.curr_pos][0]=='acc' else 0)\n",
    "    def identify_loop_or_end(self):\n",
    "        if self.curr_pos == -1:\n",
    "            self.curr_pos = 0\n",
    "        else:\n",
    "            self.change_curr_pos()\n",
    "        #Check for success\n",
    "        if self.check_success():\n",
    "            self.index_dict[self.curr_pos] = 1\n",
    "            self.change_acc_score()\n",
    "            self.success=True\n",
    "            self.confirmed_order.append(self.curr_pos)\n",
    "#             self.instructions[self.already_toggled_indices[-1]]=self.toggle_instruction(self.instructions[self.already_toggled_indices[-1]])#Revert the toggle\n",
    "            return ('s', self.acc_score)\n",
    "        #check for loop\n",
    "        elif self.index_dict[self.curr_pos]!=0:\n",
    "            if self.first_loop:\n",
    "                self.acc_score_before_first_loop=self.acc_score\n",
    "                self.first_loop=False\n",
    "            return ('l', self.acc_score)\n",
    "        #Neither end nor loop\n",
    "        else:\n",
    "            self.index_dict[self.curr_pos] = 1\n",
    "            self.change_acc_score()\n",
    "            self.confirmed_order.append(self.curr_pos)\n",
    "            if (self.instructions[self.curr_pos][0]!='acc') and  self.first_loop:\n",
    "                self.jumps_or_nops_encountered.append(self.curr_pos)\n",
    "            return self.identify_loop_or_end()\n",
    "    def find_the_error(self):\n",
    "        while not self.success:\n",
    "            status, _ = self.identify_loop_or_end()\n",
    "            if status=='l':\n",
    "                if self.already_toggled_indices:\n",
    "                    self.instructions[self.already_toggled_indices[-1]]=self.toggle_instruction(self.instructions[self.already_toggled_indices[-1]])#Revert the toggle\n",
    "                last_untoggled_jmp_nop = self.jumps_or_nops_encountered.pop(-1)\n",
    "                self.toggle_count+=1\n",
    "#                 print(last_untoggled_jmp_nop)\n",
    "                self.already_toggled_indices.append(last_untoggled_jmp_nop)\n",
    "                for index in self.confirmed_order[self.confirmed_order.index(last_untoggled_jmp_nop):]:\n",
    "                    self.acc_score-=((int(self.instructions[index][2]) if self.instructions[index][1]=='+' else -1*int(self.instructions[index][2])) if self.instructions[index][0]=='acc' else 0)\n",
    "                    self.index_dict[index]=0\n",
    "                self.acc_score_before_anomaly = self.acc_score\n",
    "                del self.confirmed_order[self.confirmed_order.index(last_untoggled_jmp_nop):]\n",
    "                self.curr_pos = self.confirmed_order[-1]\n",
    "                self.instructions[last_untoggled_jmp_nop]=self.toggle_instruction(self.instructions[last_untoggled_jmp_nop])\n",
    "        return self.acc_score, self.already_toggled_indices[-1]\n",
    "        #return self.acc_score"
   ]
  },
  {
   "cell_type": "code",
   "execution_count": null,
   "metadata": {},
   "outputs": [],
   "source": [
    "execution = track()\n",
    "\n",
    "execution.identify_loop_or_end()\n",
    "\n",
    "# execution.find_the_error()"
   ]
  },
  {
   "cell_type": "code",
   "execution_count": null,
   "metadata": {},
   "outputs": [],
   "source": [
    "part2 = execution.confirmed_order"
   ]
  },
  {
   "cell_type": "code",
   "execution_count": null,
   "metadata": {},
   "outputs": [],
   "source": [
    "part1 = execution.confirmed_order"
   ]
  },
  {
   "cell_type": "code",
   "execution_count": null,
   "metadata": {},
   "outputs": [],
   "source": [
    "len(part2)\n",
    "len(part1)\n",
    "\n",
    "[(part2[i],j) for i,j in enumerate(part1)]"
   ]
  },
  {
   "cell_type": "code",
   "execution_count": null,
   "metadata": {},
   "outputs": [],
   "source": [
    "instructions[256] = ['nop', '-', '34']"
   ]
  },
  {
   "cell_type": "code",
   "execution_count": null,
   "metadata": {},
   "outputs": [],
   "source": [
    "execution.already_toggled_indices"
   ]
  },
  {
   "cell_type": "code",
   "execution_count": null,
   "metadata": {},
   "outputs": [],
   "source": [
    "part2"
   ]
  },
  {
   "cell_type": "code",
   "execution_count": null,
   "metadata": {},
   "outputs": [],
   "source": [
    "[(i,j) for i,j in enumerate(instructions)]"
   ]
  },
  {
   "cell_type": "code",
   "execution_count": null,
   "metadata": {},
   "outputs": [],
   "source": []
  }
 ],
 "metadata": {
  "kernelspec": {
   "display_name": "Python 3",
   "language": "python",
   "name": "python3"
  },
  "language_info": {
   "codemirror_mode": {
    "name": "ipython",
    "version": 3
   },
   "file_extension": ".py",
   "mimetype": "text/x-python",
   "name": "python",
   "nbconvert_exporter": "python",
   "pygments_lexer": "ipython3",
   "version": "3.8.5"
  }
 },
 "nbformat": 4,
 "nbformat_minor": 4
}
