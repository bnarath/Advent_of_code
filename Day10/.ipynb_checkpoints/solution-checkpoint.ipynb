{
 "cells": [
  {
   "cell_type": "code",
   "execution_count": 25,
   "metadata": {},
   "outputs": [],
   "source": [
    "from IPython.core.interactiveshell import InteractiveShell\n",
    "InteractiveShell.ast_node_interactivity = 'all'"
   ]
  },
  {
   "cell_type": "code",
   "execution_count": 114,
   "metadata": {},
   "outputs": [
    {
     "name": "stdout",
     "output_type": "stream",
     "text": [
      "2346\n",
      "6044831973376\n"
     ]
    }
   ],
   "source": [
    "from collections import Counter\n",
    "import numpy as np\n",
    "\n",
    "with open('input.txt', 'r') as f:\n",
    "    adapter_voltages = [int(number.strip()) for number in f.readlines()]\n",
    "    \n",
    "#Sort in ascending order and find the volt diff    \n",
    "sorted_adapter_voltages = sorted(adapter_voltages)\n",
    "sorted_adapter_voltages = [0] + sorted_adapter_voltages + [sorted_adapter_voltages[-1]+3]\n",
    "voltage_diff = [ada-sorted_adapter_voltages[index-1] for index, ada in enumerate(sorted_adapter_voltages) if index!=0]\n",
    "\n",
    "#All possible list of the contigues ones\n",
    "def count_cont_ones(voltage_diff):\n",
    "    count_ones_list = []\n",
    "    count=0\n",
    "    for val in voltage_diff:\n",
    "        if val==1:\n",
    "            count+=1\n",
    "        else:\n",
    "            if count:\n",
    "                count_ones_list.append(count)\n",
    "                count=0\n",
    "    return count_ones_list\n",
    "count_ones_list = count_cont_ones(voltage_diff)\n",
    "\n",
    "#Count the number of permulations for a contiguous volt diff of 1's\n",
    "def check_valid_combinations(length):\n",
    "    valid_combinations = 0\n",
    "    for num in range(2**length):\n",
    "        combination = [int(d) for d in (length-len(str(bin(num))[2:]))*'0' + str(bin(num))[2:]]\n",
    "        if sum(combination):\n",
    "            #print(combination)\n",
    "            diff = [-1]+[index for index,val in enumerate(combination) if val==1]+[length+2]\n",
    "            if max([d-diff[i] for i,d in enumerate(diff[1:])]) <= 3:\n",
    "                valid_combinations+=1\n",
    "    return valid_combinations\n",
    "valid_combination_count_dict = {key:check_valid_combinations(key) for key in Counter(count_ones_list)}\n",
    "\n",
    "#Find the count of all the combinations\n",
    "def count_combinations():\n",
    "    unique_combinations = 1\n",
    "    counter = Counter(count_ones_list)\n",
    "    for key in counter:\n",
    "        unique_combinations*=valid_combination_count_dict[key]**counter[key]\n",
    "    return unique_combinations\n",
    "\n",
    "####part1\n",
    "print(np.prod(list(Counter(voltage_diff).values())))\n",
    "\n",
    "####part2\n",
    "print(count_combinations())"
   ]
  }
 ],
 "metadata": {
  "kernelspec": {
   "display_name": "Python 3",
   "language": "python",
   "name": "python3"
  },
  "language_info": {
   "codemirror_mode": {
    "name": "ipython",
    "version": 3
   },
   "file_extension": ".py",
   "mimetype": "text/x-python",
   "name": "python",
   "nbconvert_exporter": "python",
   "pygments_lexer": "ipython3",
   "version": "3.8.5"
  }
 },
 "nbformat": 4,
 "nbformat_minor": 4
}
