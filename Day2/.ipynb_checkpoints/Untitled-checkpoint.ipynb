{
 "cells": [
  {
   "cell_type": "code",
   "execution_count": 64,
   "metadata": {},
   "outputs": [
    {
     "name": "stdout",
     "output_type": "stream",
     "text": [
      "422\n"
     ]
    }
   ],
   "source": [
    "import re\n",
    "import numpy as np\n",
    "\n",
    "with open('input.txt', 'r') as f:\n",
    "    data = f.readlines()\n",
    "\n",
    "def check_if_valid_case1(entry):\n",
    "    policy = re.findall(r'^(\\d+)-(\\d+)\\s([a-z]{1}):\\s([a-z]+)\\n*$', entry)[0]\n",
    "    return ((policy[3].count(policy[2]) <= int(policy[1])) and (policy[3].count(policy[2]) >= int(policy[0])))\n",
    "\n",
    "def check_if_valid_case2(entry):\n",
    "    policy = re.findall(r'^(\\d+)-(\\d+)\\s([a-z]{1}):\\s([a-z]+)\\n*$', entry)[0]\n",
    "    return ((policy[3][int(policy[0])-1]==policy[2]) ^ (policy[3][int(policy[1])-1]==policy[2]))\n",
    "\n",
    "print(np.count_nonzero(np.array([item for item in map(check_if_valid_case1, data)])))\n",
    "#422\n",
    "\n",
    "print(np.count_nonzero(np.array([item for item in map(check_if_valid_case2, data)])))\n",
    "#451\n"
   ]
  },
  {
   "cell_type": "code",
   "execution_count": 71,
   "metadata": {},
   "outputs": [],
   "source": []
  },
  {
   "cell_type": "code",
   "execution_count": 72,
   "metadata": {},
   "outputs": [
    {
     "name": "stdout",
     "output_type": "stream",
     "text": [
      "451\n"
     ]
    }
   ],
   "source": []
  },
  {
   "cell_type": "code",
   "execution_count": 62,
   "metadata": {},
   "outputs": [
    {
     "data": {
      "text/plain": [
       "422"
      ]
     },
     "execution_count": 62,
     "metadata": {},
     "output_type": "execute_result"
    }
   ],
   "source": []
  },
  {
   "cell_type": "code",
   "execution_count": null,
   "metadata": {},
   "outputs": [],
   "source": []
  }
 ],
 "metadata": {
  "kernelspec": {
   "display_name": "Python 3",
   "language": "python",
   "name": "python3"
  },
  "language_info": {
   "codemirror_mode": {
    "name": "ipython",
    "version": 3
   },
   "file_extension": ".py",
   "mimetype": "text/x-python",
   "name": "python",
   "nbconvert_exporter": "python",
   "pygments_lexer": "ipython3",
   "version": "3.8.5"
  }
 },
 "nbformat": 4,
 "nbformat_minor": 4
}
