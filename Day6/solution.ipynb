{
 "cells": [
  {
   "cell_type": "code",
   "execution_count": 39,
   "metadata": {},
   "outputs": [
    {
     "name": "stdout",
     "output_type": "stream",
     "text": [
      "Sum of 'yes' answers : 6521\n",
      "Sum of 'yes' answers : 3305\n"
     ]
    }
   ],
   "source": [
    "import re\n",
    "with open('input.txt') as f:\n",
    "    answers=[ans for ans in f.read().split('\\n\\n')]\n",
    "    \n",
    "#Solution1\n",
    "print(\"Sum of 'yes' answers : {}\".format(sum([len(set(re.sub('\\n','',ans))) for ans in answers])))\n",
    "\n",
    "#Solution2\n",
    "print(\"Sum of 'yes' answers : {}\".format(sum([len(set.intersection(*[set(each) for each in ans.split('\\n')])) for ans in answers])))"
   ]
  },
  {
   "cell_type": "code",
   "execution_count": null,
   "metadata": {},
   "outputs": [],
   "source": []
  }
 ],
 "metadata": {
  "kernelspec": {
   "display_name": "Python 3",
   "language": "python",
   "name": "python3"
  },
  "language_info": {
   "codemirror_mode": {
    "name": "ipython",
    "version": 3
   },
   "file_extension": ".py",
   "mimetype": "text/x-python",
   "name": "python",
   "nbconvert_exporter": "python",
   "pygments_lexer": "ipython3",
   "version": "3.8.5"
  }
 },
 "nbformat": 4,
 "nbformat_minor": 4
}
