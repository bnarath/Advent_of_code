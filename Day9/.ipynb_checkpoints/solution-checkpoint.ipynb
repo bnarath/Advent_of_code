{
 "cells": [
  {
   "cell_type": "code",
   "execution_count": 11,
   "metadata": {},
   "outputs": [],
   "source": [
    "from IPython.core.interactiveshell import InteractiveShell\n",
    "InteractiveShell.ast_node_interactivity = 'all'"
   ]
  },
  {
   "cell_type": "code",
   "execution_count": 12,
   "metadata": {},
   "outputs": [],
   "source": [
    "with open('input.txt', 'r') as f:\n",
    "    numbers = [int(number.strip()) for number in f.readlines()]\n"
   ]
  },
  {
   "cell_type": "code",
   "execution_count": 25,
   "metadata": {},
   "outputs": [],
   "source": [
    "def check_if_sum_of_two_prev(num, list_of_numbers):\n",
    "    for number in list_of_numbers:\n",
    "        if (num-number in numbers) and (number!=(num-number)):\n",
    "            return True\n",
    "    return False\n",
    "def check_the_anomaly_number():\n",
    "    for index, num in enumerate(numbers[25:]):\n",
    "#         print(num, numbers[index:index+25:])\n",
    "        if not check_if_sum_of_two_prev(num, numbers[index:index+25:]):\n",
    "            return num\n",
    "    return \"All numbers satisfy the requirement\""
   ]
  },
  {
   "cell_type": "code",
   "execution_count": 32,
   "metadata": {},
   "outputs": [],
   "source": [
    "anomaly = check_the_anomaly_number()"
   ]
  },
  {
   "cell_type": "code",
   "execution_count": 29,
   "metadata": {},
   "outputs": [],
   "source": [
    "index_of_anomaly = numbers.index(check_the_anomaly_number())"
   ]
  },
  {
   "cell_type": "code",
   "execution_count": 28,
   "metadata": {},
   "outputs": [],
   "source": [
    "\n",
    "def check_contiguous_sum_equate(size, cont_range, num):\n",
    "    lb, ub, start = 0, len(cont_range), 0\n",
    "    while start+size <= ub:\n",
    "        if sum(cont_range[start:start+size])==num:\n",
    "            return (min(cont_range[start:start+size]), max(cont_range[start:start+size]))\n",
    "        start+=1\n",
    "    return False\n",
    "\n",
    "\n",
    "        "
   ]
  },
  {
   "cell_type": "code",
   "execution_count": null,
   "metadata": {},
   "outputs": [],
   "source": [
    "def find_min_max_cont_range():\n",
    "    done,size = False, 2\n",
    "    while size<=max(index_of_anomaly, len(numbers)-index_of_anomaly-1):\n",
    "        if size<= index_of_anomaly\n",
    "            lower = check_contiguous_sum_equate(size, numbers[:index_of_anomaly], anomaly):\n",
    "            if lower: return lower\n",
    "        if size<= len(numbers)-index_of_anomaly-1\n",
    "            upper = check_contiguous_sum_equate(size, numbers[index_of_anomaly+1:], anomaly):\n",
    "            if upper: return upper\n",
    "        size+=1\n",
    "    return \"No contiguous range found\""
   ]
  },
  {
   "cell_type": "code",
   "execution_count": 30,
   "metadata": {},
   "outputs": [
    {
     "data": {
      "text/plain": [
       "646"
      ]
     },
     "execution_count": 30,
     "metadata": {},
     "output_type": "execute_result"
    }
   ],
   "source": [
    "index_of_anomaly"
   ]
  },
  {
   "cell_type": "code",
   "execution_count": 31,
   "metadata": {},
   "outputs": [
    {
     "data": {
      "text/plain": [
       "323"
      ]
     },
     "execution_count": 31,
     "metadata": {},
     "output_type": "execute_result"
    }
   ],
   "source": [
    "index_of_anomaly//2"
   ]
  },
  {
   "cell_type": "code",
   "execution_count": 33,
   "metadata": {},
   "outputs": [
    {
     "data": {
      "text/plain": [
       "1"
      ]
     },
     "execution_count": 33,
     "metadata": {},
     "output_type": "execute_result"
    }
   ],
   "source": [
    "min(1,4)"
   ]
  },
  {
   "cell_type": "code",
   "execution_count": null,
   "metadata": {},
   "outputs": [],
   "source": [
    "5,10"
   ]
  }
 ],
 "metadata": {
  "kernelspec": {
   "display_name": "Python 3",
   "language": "python",
   "name": "python3"
  },
  "language_info": {
   "codemirror_mode": {
    "name": "ipython",
    "version": 3
   },
   "file_extension": ".py",
   "mimetype": "text/x-python",
   "name": "python",
   "nbconvert_exporter": "python",
   "pygments_lexer": "ipython3",
   "version": "3.8.5"
  }
 },
 "nbformat": 4,
 "nbformat_minor": 4
}
