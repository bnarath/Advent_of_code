{
 "cells": [
  {
   "cell_type": "code",
   "execution_count": 11,
   "metadata": {},
   "outputs": [],
   "source": [
    "from IPython.core.interactiveshell import InteractiveShell\n",
    "InteractiveShell.ast_node_interactivity = 'all'"
   ]
  },
  {
   "cell_type": "code",
   "execution_count": 40,
   "metadata": {},
   "outputs": [
    {
     "name": "stdout",
     "output_type": "stream",
     "text": [
      "1038347917\n",
      "137394018\n"
     ]
    }
   ],
   "source": [
    "with open('input.txt', 'r') as f:\n",
    "    numbers = [int(number.strip()) for number in f.readlines()]\n",
    "\n",
    "def check_if_sum_of_two_prev(num, list_of_numbers):\n",
    "    for number in list_of_numbers:\n",
    "        if (num-number in numbers) and (number!=(num-number)):\n",
    "            return True\n",
    "    return False\n",
    "def check_the_anomaly_number():\n",
    "    for index, num in enumerate(numbers[25:]):\n",
    "        if not check_if_sum_of_two_prev(num, numbers[index:index+25:]):\n",
    "            return num\n",
    "    return \"All numbers satisfy the requirement\"\n",
    "\n",
    "def check_contiguous_sum_equate(size, cont_range, num):\n",
    "    lb, ub, start = 0, len(cont_range), 0\n",
    "    while start+size <= ub:\n",
    "        if sum(cont_range[start:start+size])==num:\n",
    "            return (min(cont_range[start:start+size]), max(cont_range[start:start+size]))\n",
    "        start+=1\n",
    "    return False\n",
    "\n",
    "def find_min_max_cont_range():\n",
    "    anomaly = check_the_anomaly_number()\n",
    "    index_of_anomaly = numbers.index(check_the_anomaly_number())\n",
    "    done,size = False, 2\n",
    "    while size<=max(index_of_anomaly, len(numbers)-index_of_anomaly-1):\n",
    "        if size<= index_of_anomaly:\n",
    "            lower = check_contiguous_sum_equate(size, numbers[:index_of_anomaly], anomaly)\n",
    "            if lower: return lower\n",
    "        if size<= len(numbers)-index_of_anomaly-1:\n",
    "            upper = check_contiguous_sum_equate(size, numbers[index_of_anomaly+1:], anomaly)\n",
    "            if upper: return upper\n",
    "        size+=1\n",
    "    return \"No contiguous range found\"\n",
    "\n",
    "###part1 - 1038347917\n",
    "print(check_the_anomaly_number())\n",
    "###part2 - 137394018\n",
    "print(sum(find_min_max_cont_range()))"
   ]
  }
 ],
 "metadata": {
  "kernelspec": {
   "display_name": "Python 3",
   "language": "python",
   "name": "python3"
  },
  "language_info": {
   "codemirror_mode": {
    "name": "ipython",
    "version": 3
   },
   "file_extension": ".py",
   "mimetype": "text/x-python",
   "name": "python",
   "nbconvert_exporter": "python",
   "pygments_lexer": "ipython3",
   "version": "3.8.5"
  }
 },
 "nbformat": 4,
 "nbformat_minor": 4
}
