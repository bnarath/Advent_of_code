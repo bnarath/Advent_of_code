{
 "cells": [
  {
   "cell_type": "code",
   "execution_count": 3,
   "metadata": {},
   "outputs": [],
   "source": [
    "# ###Required Fields\n",
    "# required = {'byr', 'iyr', 'eyr', 'hgt', 'hcl', 'ecl', 'pid'}\n",
    "\n",
    "# ###Count the valid passwords for problem1\n",
    "# def check_fields(arr):\n",
    "#     return len([ 1 for line in arr if not required.difference(set(re.findall(r'([a-z]+):', re.sub('\\n', ' ', line))))])\n",
    "\n",
    "# ###File open\n",
    "# with open('input.txt') as f:\n",
    "#     arr = f.read().split('\\n\\n')\n",
    "    \n",
    "# ###Solution1\n",
    "# print(\"No of valid passwords : {}\".format(check_fields(arr)))    \n",
    "        "
   ]
  },
  {
   "cell_type": "code",
   "execution_count": 5,
   "metadata": {},
   "outputs": [
    {
     "name": "stdout",
     "output_type": "stream",
     "text": [
      "250\n",
      "158\n"
     ]
    }
   ],
   "source": [
    "import re\n",
    "import numpy as np\n",
    "import functools  \n",
    "\n",
    "###File open\n",
    "with open('input.txt') as f:\n",
    "    arr = f.read().split('\\n\\n')\n",
    "    \n",
    "###Data parsing\n",
    "parsed_data = [dict(re.findall(r'([a-z]+):([^\\s]+)' ,re.sub('\\n', ' ', line))) for line in arr]\n",
    "\n",
    "###Check fields - for part1\n",
    "def check_fields(**items):  \n",
    "    required = {'byr', 'iyr', 'eyr', 'hgt', 'hcl', 'ecl', 'pid'}\n",
    "    return (True if not required.difference(set(items.keys())) else False)\n",
    "\n",
    "###Check policy - for part2    \n",
    "def check_policy(**items):\n",
    "    check_byr = lambda x: (True if (int(x)>=1920) and (int(x)<=2002) else False)\n",
    "    check_iyr = lambda x: (True if(int(x)>=2010) and (int(x)<=2020) else False)\n",
    "    check_eyr = lambda x: (True if(int(x)>=2020) and (int(x)<=2030) else False)\n",
    "    check_ecl = lambda x: (True if re.match(r'^(amb|blu|brn|gry|grn|hzl|oth)$', x) else False)\n",
    "    def check_hgt(height):\n",
    "        val, unit = re.findall(r'^(\\d+)(in|cm)$', height)[0]\n",
    "        return (int(val)>=150 and int(val)<=193 if unit == 'cm'else int(val)>=59 and int(val)<=76)\n",
    "    \n",
    "    check_hcl = lambda x: (True if re.match(r'^#[a-f0-9]{6}$',x) else False)\n",
    "    check_pid = lambda x: (True if re.match(r'^[0-9]{9}$', x) else False)\n",
    "    policy = {'byr':check_byr, 'iyr':check_iyr, 'eyr':check_eyr, 'hgt':check_hgt, 'hcl':check_hcl, 'ecl':check_ecl, 'pid':check_pid}\n",
    "    try:\n",
    "        #return {key:(value,policy[key](value)) for (key,value) in items.items() if key in policy.keys()}\n",
    "        return functools.reduce(lambda a,b : a and b, [policy[key](value) for (key,value) in items.items() if key in policy.keys()])\n",
    "    except:\n",
    "        return False\n",
    "    \n",
    "####Function calls\n",
    "####Solution1\n",
    "print(np.count_nonzero([check_fields(**item) for item in parsed_data]))\n",
    "#250\n",
    "\n",
    "####Solution2\n",
    "print(np.count_nonzero([check_fields(**item) and check_policy(**item) for item in parsed_data]))\n",
    "#158"
   ]
  }
 ],
 "metadata": {
  "kernelspec": {
   "display_name": "Python 3",
   "language": "python",
   "name": "python3"
  },
  "language_info": {
   "codemirror_mode": {
    "name": "ipython",
    "version": 3
   },
   "file_extension": ".py",
   "mimetype": "text/x-python",
   "name": "python",
   "nbconvert_exporter": "python",
   "pygments_lexer": "ipython3",
   "version": "3.8.5"
  }
 },
 "nbformat": 4,
 "nbformat_minor": 4
}
